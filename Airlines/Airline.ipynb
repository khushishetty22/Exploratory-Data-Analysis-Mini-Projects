{
 "cells": [
  {
   "cell_type": "markdown",
   "id": "b796a470-2ee5-4be3-82a4-fffae44c8591",
   "metadata": {
    "tags": []
   },
   "source": [
    "# Mini Project 1: Structured Data\n",
    "## IST652 - Scripting for Data Analysis\n",
    "#### Khushi Shetty\n",
    "#### SUID: 855125581"
   ]
  },
  {
   "cell_type": "code",
   "execution_count": 1,
   "id": "f98f5e4d-69ac-4482-a4f8-ef06fff0d011",
   "metadata": {
    "tags": []
   },
   "outputs": [],
   "source": [
    "import numpy as np \n",
    "import pandas as pd\n",
    "import matplotlib.pyplot as plt"
   ]
  },
  {
   "cell_type": "markdown",
   "id": "a59e0206-c851-4fc9-b540-1a9a8d46eff4",
   "metadata": {},
   "source": [
    "### Exploratory Data Analysis"
   ]
  },
  {
   "cell_type": "markdown",
   "id": "17587d77-774b-4589-8ce5-eaa5aa23108f",
   "metadata": {},
   "source": [
    "#### Read the airline data into panda dataframe"
   ]
  },
  {
   "cell_type": "code",
   "execution_count": 2,
   "id": "ad4f6076-9b8c-481a-a4bf-14d28bf3e2ca",
   "metadata": {
    "tags": []
   },
   "outputs": [],
   "source": [
    "airline_data = pd.read_csv('Airline Dataset.csv')"
   ]
  },
  {
   "cell_type": "markdown",
   "id": "b7203508-aacf-4f83-91bb-22ed78892977",
   "metadata": {},
   "source": [
    "#### Cleaning and Formatting of the data"
   ]
  },
  {
   "cell_type": "code",
   "execution_count": 3,
   "id": "b4b1be5a-140d-4303-8451-f69d4c9dfb9f",
   "metadata": {
    "tags": []
   },
   "outputs": [
    {
     "data": {
      "text/html": [
       "<div>\n",
       "<style scoped>\n",
       "    .dataframe tbody tr th:only-of-type {\n",
       "        vertical-align: middle;\n",
       "    }\n",
       "\n",
       "    .dataframe tbody tr th {\n",
       "        vertical-align: top;\n",
       "    }\n",
       "\n",
       "    .dataframe thead th {\n",
       "        text-align: right;\n",
       "    }\n",
       "</style>\n",
       "<table border=\"1\" class=\"dataframe\">\n",
       "  <thead>\n",
       "    <tr style=\"text-align: right;\">\n",
       "      <th></th>\n",
       "      <th>Passenger ID</th>\n",
       "      <th>First Name</th>\n",
       "      <th>Last Name</th>\n",
       "      <th>Gender</th>\n",
       "      <th>Age</th>\n",
       "      <th>Nationality</th>\n",
       "      <th>Airport Name</th>\n",
       "      <th>Airport Country Code</th>\n",
       "      <th>Country Name</th>\n",
       "      <th>Airport Continent</th>\n",
       "      <th>Continents</th>\n",
       "      <th>Departure Date</th>\n",
       "      <th>Arrival Airport</th>\n",
       "      <th>Pilot Name</th>\n",
       "      <th>Flight Status</th>\n",
       "    </tr>\n",
       "  </thead>\n",
       "  <tbody>\n",
       "    <tr>\n",
       "      <th>0</th>\n",
       "      <td>ABVWIg</td>\n",
       "      <td>Edithe</td>\n",
       "      <td>Leggis</td>\n",
       "      <td>Female</td>\n",
       "      <td>62</td>\n",
       "      <td>Japan</td>\n",
       "      <td>Coldfoot Airport</td>\n",
       "      <td>US</td>\n",
       "      <td>United States</td>\n",
       "      <td>NAM</td>\n",
       "      <td>North America</td>\n",
       "      <td>6/28/2022</td>\n",
       "      <td>CXF</td>\n",
       "      <td>Fransisco Hazeldine</td>\n",
       "      <td>On Time</td>\n",
       "    </tr>\n",
       "    <tr>\n",
       "      <th>1</th>\n",
       "      <td>jkXXAX</td>\n",
       "      <td>Elwood</td>\n",
       "      <td>Catt</td>\n",
       "      <td>Male</td>\n",
       "      <td>62</td>\n",
       "      <td>Nicaragua</td>\n",
       "      <td>Kugluktuk Airport</td>\n",
       "      <td>CA</td>\n",
       "      <td>Canada</td>\n",
       "      <td>NAM</td>\n",
       "      <td>North America</td>\n",
       "      <td>12/26/2022</td>\n",
       "      <td>YCO</td>\n",
       "      <td>Marla Parsonage</td>\n",
       "      <td>On Time</td>\n",
       "    </tr>\n",
       "    <tr>\n",
       "      <th>2</th>\n",
       "      <td>CdUz2g</td>\n",
       "      <td>Darby</td>\n",
       "      <td>Felgate</td>\n",
       "      <td>Male</td>\n",
       "      <td>67</td>\n",
       "      <td>Russia</td>\n",
       "      <td>Grenoble-Isère Airport</td>\n",
       "      <td>FR</td>\n",
       "      <td>France</td>\n",
       "      <td>EU</td>\n",
       "      <td>Europe</td>\n",
       "      <td>1/18/2022</td>\n",
       "      <td>GNB</td>\n",
       "      <td>Rhonda Amber</td>\n",
       "      <td>On Time</td>\n",
       "    </tr>\n",
       "    <tr>\n",
       "      <th>3</th>\n",
       "      <td>BRS38V</td>\n",
       "      <td>Dominica</td>\n",
       "      <td>Pyle</td>\n",
       "      <td>Female</td>\n",
       "      <td>71</td>\n",
       "      <td>China</td>\n",
       "      <td>Ottawa / Gatineau Airport</td>\n",
       "      <td>CA</td>\n",
       "      <td>Canada</td>\n",
       "      <td>NAM</td>\n",
       "      <td>North America</td>\n",
       "      <td>9/16/2022</td>\n",
       "      <td>YND</td>\n",
       "      <td>Kacie Commucci</td>\n",
       "      <td>Delayed</td>\n",
       "    </tr>\n",
       "    <tr>\n",
       "      <th>4</th>\n",
       "      <td>9kvTLo</td>\n",
       "      <td>Bay</td>\n",
       "      <td>Pencost</td>\n",
       "      <td>Male</td>\n",
       "      <td>21</td>\n",
       "      <td>China</td>\n",
       "      <td>Gillespie Field</td>\n",
       "      <td>US</td>\n",
       "      <td>United States</td>\n",
       "      <td>NAM</td>\n",
       "      <td>North America</td>\n",
       "      <td>2/25/2022</td>\n",
       "      <td>SEE</td>\n",
       "      <td>Ebonee Tree</td>\n",
       "      <td>On Time</td>\n",
       "    </tr>\n",
       "  </tbody>\n",
       "</table>\n",
       "</div>"
      ],
      "text/plain": [
       "  Passenger ID First Name Last Name  Gender  Age Nationality  \\\n",
       "0       ABVWIg     Edithe    Leggis  Female   62       Japan   \n",
       "1       jkXXAX     Elwood      Catt    Male   62   Nicaragua   \n",
       "2       CdUz2g      Darby   Felgate    Male   67      Russia   \n",
       "3       BRS38V   Dominica      Pyle  Female   71       China   \n",
       "4       9kvTLo        Bay   Pencost    Male   21       China   \n",
       "\n",
       "                Airport Name Airport Country Code   Country Name  \\\n",
       "0           Coldfoot Airport                   US  United States   \n",
       "1          Kugluktuk Airport                   CA         Canada   \n",
       "2     Grenoble-Isère Airport                   FR         France   \n",
       "3  Ottawa / Gatineau Airport                   CA         Canada   \n",
       "4            Gillespie Field                   US  United States   \n",
       "\n",
       "  Airport Continent     Continents Departure Date Arrival Airport  \\\n",
       "0               NAM  North America      6/28/2022             CXF   \n",
       "1               NAM  North America     12/26/2022             YCO   \n",
       "2                EU         Europe      1/18/2022             GNB   \n",
       "3               NAM  North America      9/16/2022             YND   \n",
       "4               NAM  North America      2/25/2022             SEE   \n",
       "\n",
       "            Pilot Name Flight Status  \n",
       "0  Fransisco Hazeldine       On Time  \n",
       "1      Marla Parsonage       On Time  \n",
       "2         Rhonda Amber       On Time  \n",
       "3       Kacie Commucci       Delayed  \n",
       "4          Ebonee Tree       On Time  "
      ]
     },
     "execution_count": 3,
     "metadata": {},
     "output_type": "execute_result"
    }
   ],
   "source": [
    "airline_data.head()"
   ]
  },
  {
   "cell_type": "code",
   "execution_count": 4,
   "id": "72b0e887-3eae-4b22-8864-abb15a4d03a1",
   "metadata": {
    "tags": []
   },
   "outputs": [
    {
     "data": {
      "text/html": [
       "<div>\n",
       "<style scoped>\n",
       "    .dataframe tbody tr th:only-of-type {\n",
       "        vertical-align: middle;\n",
       "    }\n",
       "\n",
       "    .dataframe tbody tr th {\n",
       "        vertical-align: top;\n",
       "    }\n",
       "\n",
       "    .dataframe thead th {\n",
       "        text-align: right;\n",
       "    }\n",
       "</style>\n",
       "<table border=\"1\" class=\"dataframe\">\n",
       "  <thead>\n",
       "    <tr style=\"text-align: right;\">\n",
       "      <th></th>\n",
       "      <th>Passenger ID</th>\n",
       "      <th>First Name</th>\n",
       "      <th>Last Name</th>\n",
       "      <th>Gender</th>\n",
       "      <th>Age</th>\n",
       "      <th>Nationality</th>\n",
       "      <th>Airport Name</th>\n",
       "      <th>Airport Country Code</th>\n",
       "      <th>Country Name</th>\n",
       "      <th>Airport Continent</th>\n",
       "      <th>Continents</th>\n",
       "      <th>Departure Date</th>\n",
       "      <th>Arrival Airport</th>\n",
       "      <th>Pilot Name</th>\n",
       "      <th>Flight Status</th>\n",
       "    </tr>\n",
       "  </thead>\n",
       "  <tbody>\n",
       "    <tr>\n",
       "      <th>98614</th>\n",
       "      <td>hnGQ62</td>\n",
       "      <td>Gareth</td>\n",
       "      <td>Mugford</td>\n",
       "      <td>Male</td>\n",
       "      <td>85</td>\n",
       "      <td>China</td>\n",
       "      <td>Hasvik Airport</td>\n",
       "      <td>NO</td>\n",
       "      <td>Norway</td>\n",
       "      <td>EU</td>\n",
       "      <td>Europe</td>\n",
       "      <td>12-11-2022</td>\n",
       "      <td>HAA</td>\n",
       "      <td>Pammie Kingscote</td>\n",
       "      <td>Cancelled</td>\n",
       "    </tr>\n",
       "    <tr>\n",
       "      <th>98615</th>\n",
       "      <td>2omEzh</td>\n",
       "      <td>Kasey</td>\n",
       "      <td>Benedict</td>\n",
       "      <td>Female</td>\n",
       "      <td>19</td>\n",
       "      <td>Russia</td>\n",
       "      <td>Ampampamena Airport</td>\n",
       "      <td>MG</td>\n",
       "      <td>Madagascar</td>\n",
       "      <td>AF</td>\n",
       "      <td>Africa</td>\n",
       "      <td>10/30/2022</td>\n",
       "      <td>IVA</td>\n",
       "      <td>Dorice Lochran</td>\n",
       "      <td>Cancelled</td>\n",
       "    </tr>\n",
       "    <tr>\n",
       "      <th>98616</th>\n",
       "      <td>VUPiVG</td>\n",
       "      <td>Darrin</td>\n",
       "      <td>Lucken</td>\n",
       "      <td>Male</td>\n",
       "      <td>65</td>\n",
       "      <td>Indonesia</td>\n",
       "      <td>Albacete-Los Llanos Airport</td>\n",
       "      <td>ES</td>\n",
       "      <td>Spain</td>\n",
       "      <td>EU</td>\n",
       "      <td>Europe</td>\n",
       "      <td>09-10-2022</td>\n",
       "      <td>ABC</td>\n",
       "      <td>Gearalt Main</td>\n",
       "      <td>On Time</td>\n",
       "    </tr>\n",
       "    <tr>\n",
       "      <th>98617</th>\n",
       "      <td>E47NtS</td>\n",
       "      <td>Gayle</td>\n",
       "      <td>Lievesley</td>\n",
       "      <td>Female</td>\n",
       "      <td>34</td>\n",
       "      <td>China</td>\n",
       "      <td>Gagnoa Airport</td>\n",
       "      <td>CI</td>\n",
       "      <td>Côte d'Ivoire</td>\n",
       "      <td>AF</td>\n",
       "      <td>Africa</td>\n",
       "      <td>10/26/2022</td>\n",
       "      <td>GGN</td>\n",
       "      <td>Judon Chasle</td>\n",
       "      <td>Cancelled</td>\n",
       "    </tr>\n",
       "    <tr>\n",
       "      <th>98618</th>\n",
       "      <td>8JYEcz</td>\n",
       "      <td>Wilhelmine</td>\n",
       "      <td>Touret</td>\n",
       "      <td>Female</td>\n",
       "      <td>10</td>\n",
       "      <td>Poland</td>\n",
       "      <td>Yoshkar-Ola Airport</td>\n",
       "      <td>RU</td>\n",
       "      <td>Russian Federation</td>\n",
       "      <td>EU</td>\n",
       "      <td>Europe</td>\n",
       "      <td>4/16/2022</td>\n",
       "      <td>JOK</td>\n",
       "      <td>Auguste Tindley</td>\n",
       "      <td>Delayed</td>\n",
       "    </tr>\n",
       "  </tbody>\n",
       "</table>\n",
       "</div>"
      ],
      "text/plain": [
       "      Passenger ID  First Name  Last Name  Gender  Age Nationality  \\\n",
       "98614       hnGQ62      Gareth    Mugford    Male   85       China   \n",
       "98615       2omEzh       Kasey   Benedict  Female   19      Russia   \n",
       "98616       VUPiVG      Darrin     Lucken    Male   65   Indonesia   \n",
       "98617       E47NtS       Gayle  Lievesley  Female   34       China   \n",
       "98618       8JYEcz  Wilhelmine     Touret  Female   10      Poland   \n",
       "\n",
       "                      Airport Name Airport Country Code        Country Name  \\\n",
       "98614               Hasvik Airport                   NO              Norway   \n",
       "98615          Ampampamena Airport                   MG          Madagascar   \n",
       "98616  Albacete-Los Llanos Airport                   ES               Spain   \n",
       "98617               Gagnoa Airport                   CI       Côte d'Ivoire   \n",
       "98618          Yoshkar-Ola Airport                   RU  Russian Federation   \n",
       "\n",
       "      Airport Continent Continents Departure Date Arrival Airport  \\\n",
       "98614                EU     Europe     12-11-2022             HAA   \n",
       "98615                AF     Africa     10/30/2022             IVA   \n",
       "98616                EU     Europe     09-10-2022             ABC   \n",
       "98617                AF     Africa     10/26/2022             GGN   \n",
       "98618                EU     Europe      4/16/2022             JOK   \n",
       "\n",
       "             Pilot Name Flight Status  \n",
       "98614  Pammie Kingscote     Cancelled  \n",
       "98615    Dorice Lochran     Cancelled  \n",
       "98616      Gearalt Main       On Time  \n",
       "98617      Judon Chasle     Cancelled  \n",
       "98618   Auguste Tindley       Delayed  "
      ]
     },
     "execution_count": 4,
     "metadata": {},
     "output_type": "execute_result"
    }
   ],
   "source": [
    "airline_data.tail()"
   ]
  },
  {
   "cell_type": "code",
   "execution_count": 5,
   "id": "dc3febe4-4962-40c4-bbcd-33d4ff07f012",
   "metadata": {
    "tags": []
   },
   "outputs": [
    {
     "data": {
      "text/plain": [
       "(98619, 15)"
      ]
     },
     "execution_count": 5,
     "metadata": {},
     "output_type": "execute_result"
    }
   ],
   "source": [
    "airline_data.shape\n",
    "# There are 98619 rows and 15 columns in the airline dataframe"
   ]
  },
  {
   "cell_type": "code",
   "execution_count": 6,
   "id": "c38faa0b-a3a1-440b-ab44-9ee5b575659a",
   "metadata": {
    "tags": []
   },
   "outputs": [],
   "source": [
    "# Dropping the unnecessary columns\n",
    "airline_df = airline_data.drop(['First Name','Last Name','Airport Country Code','Airport Continent'], axis = 1)"
   ]
  },
  {
   "cell_type": "code",
   "execution_count": 7,
   "id": "0e71f4ba-39b9-4f76-b89a-5811f0296e40",
   "metadata": {
    "tags": []
   },
   "outputs": [
    {
     "data": {
      "text/plain": [
       "(98619, 11)"
      ]
     },
     "execution_count": 7,
     "metadata": {},
     "output_type": "execute_result"
    }
   ],
   "source": [
    "# Viewing the shape of the dataframe after dropping columns\n",
    "airline_df.shape\n",
    "# Now there are 98619 rows and 11 columns in the airline dataframe"
   ]
  },
  {
   "cell_type": "code",
   "execution_count": 8,
   "id": "a5a8c0cc-1522-44a3-95c2-79b66b93866e",
   "metadata": {
    "tags": []
   },
   "outputs": [
    {
     "data": {
      "text/plain": [
       "Index(['Passenger ID', 'Gender', 'Age', 'Nationality', 'Airport Name',\n",
       "       'Country Name', 'Continents', 'Departure Date', 'Arrival Airport',\n",
       "       'Pilot Name', 'Flight Status'],\n",
       "      dtype='object')"
      ]
     },
     "execution_count": 8,
     "metadata": {},
     "output_type": "execute_result"
    }
   ],
   "source": [
    "# Viewing the column names of the dataframe\n",
    "airline_df.columns"
   ]
  },
  {
   "cell_type": "code",
   "execution_count": 9,
   "id": "d1f1cfb3-e64b-4f48-9b40-242bea0db242",
   "metadata": {
    "tags": []
   },
   "outputs": [],
   "source": [
    "# Change certain column names for better understanding\n",
    "new_column_names = {'Country Name': 'Airport Country', 'Continents': 'Airport Continent'}\n",
    "airline_df.rename(columns=new_column_names, inplace=True)"
   ]
  },
  {
   "cell_type": "code",
   "execution_count": 10,
   "id": "358206d0-a27b-4d7e-b72a-cc0966727d89",
   "metadata": {
    "tags": []
   },
   "outputs": [
    {
     "data": {
      "text/plain": [
       "Index(['Passenger ID', 'Gender', 'Age', 'Nationality', 'Airport Name',\n",
       "       'Airport Country', 'Airport Continent', 'Departure Date',\n",
       "       'Arrival Airport', 'Pilot Name', 'Flight Status'],\n",
       "      dtype='object')"
      ]
     },
     "execution_count": 10,
     "metadata": {},
     "output_type": "execute_result"
    }
   ],
   "source": [
    "# Veiwing the columns after changing the column names\n",
    "airline_df.columns"
   ]
  },
  {
   "cell_type": "code",
   "execution_count": 11,
   "id": "c579330a-32d1-4a25-8a2e-3cfc05aef0fd",
   "metadata": {
    "tags": []
   },
   "outputs": [
    {
     "data": {
      "text/plain": [
       "Passenger ID         object\n",
       "Gender               object\n",
       "Age                   int64\n",
       "Nationality          object\n",
       "Airport Name         object\n",
       "Airport Country      object\n",
       "Airport Continent    object\n",
       "Departure Date       object\n",
       "Arrival Airport      object\n",
       "Pilot Name           object\n",
       "Flight Status        object\n",
       "dtype: object"
      ]
     },
     "execution_count": 11,
     "metadata": {},
     "output_type": "execute_result"
    }
   ],
   "source": [
    "# Veiwing the data types of each column\n",
    "airline_df.dtypes"
   ]
  },
  {
   "cell_type": "code",
   "execution_count": 12,
   "id": "45643b3d-1356-4ed8-aa0c-e0148d6a2c18",
   "metadata": {},
   "outputs": [],
   "source": [
    "# The 'Departure Date' column is currently assigned the 'object' data type.\n",
    "# Without a 'datetime' data type, we cannot perform date and time-related operations\n",
    "# or analysis on this column.\n",
    "# To address this, we will convert the 'Departure Date' values to the 'datetime' data type."
   ]
  },
  {
   "cell_type": "code",
   "execution_count": 13,
   "id": "cce94263-d7a5-4f45-92d9-8e0feb0d160c",
   "metadata": {
    "tags": []
   },
   "outputs": [],
   "source": [
    "# Replace '-' with '/' in the 'Departure Date' column\n",
    "# This operation is performed to standardize the date format in the 'Departure Date' column.\n",
    "# It replaces hyphens ('-') with forward slashes ('/') to ensure consistent date formatting.\n",
    "# Inconsistent date formatting can lead to incorrect date parsing, \n",
    "# potentially resulting in NaT (Not a Timestamp) values.\n",
    "\n",
    "airline_df['Departure Date'] = airline_df['Departure Date'].str.replace('-', '/')"
   ]
  },
  {
   "cell_type": "code",
   "execution_count": 14,
   "id": "b1a2fc4e-4858-4192-80e3-ed3d5778725d",
   "metadata": {
    "tags": []
   },
   "outputs": [],
   "source": [
    "# We are converting the 'Departure Date' column to the 'datetime' data type using 'pd.to_datetime'.\n",
    "airline_df['Departure Date'] = pd.to_datetime(airline_df['Departure Date'], errors='coerce')\n",
    "\n",
    "# The 'errors='coerce'' parameter ensures that any invalid dates are replaced with NaT (Not a Timestamp)."
   ]
  },
  {
   "cell_type": "code",
   "execution_count": 15,
   "id": "5343d8c5-4853-4722-aa64-3b9609a17bcb",
   "metadata": {
    "tags": []
   },
   "outputs": [
    {
     "data": {
      "text/plain": [
       "Passenger ID                 object\n",
       "Gender                       object\n",
       "Age                           int64\n",
       "Nationality                  object\n",
       "Airport Name                 object\n",
       "Airport Country              object\n",
       "Airport Continent            object\n",
       "Departure Date       datetime64[ns]\n",
       "Arrival Airport              object\n",
       "Pilot Name                   object\n",
       "Flight Status                object\n",
       "dtype: object"
      ]
     },
     "execution_count": 15,
     "metadata": {},
     "output_type": "execute_result"
    }
   ],
   "source": [
    "# We can verify the data types of the columns in the airline dataset using 'airline_df.dtypes'.\n",
    "airline_df.dtypes\n",
    "\n",
    "# We can confirm that the 'Departure Date' column has successfully changed \n",
    "# its data type to 'datetime'."
   ]
  },
  {
   "cell_type": "code",
   "execution_count": 16,
   "id": "01d92ac7-f1c0-419f-be36-5d1fed5dcb40",
   "metadata": {
    "tags": []
   },
   "outputs": [
    {
     "name": "stdout",
     "output_type": "stream",
     "text": [
      "Number of NaT values: 0\n"
     ]
    }
   ],
   "source": [
    "# Check for NaT values in the \"Departure Date\" column\n",
    "na_values = airline_df['Departure Date'].isna()\n",
    "\n",
    "# Count the number of NaT values in the column\n",
    "count_na = na_values.sum()\n",
    "\n",
    "# Print the count of NaT values\n",
    "print(f\"Number of NaT values: {count_na}\")\n",
    "\n",
    "# The output shows that the count of NaT (Not a Timestamp) values \n",
    "# in the 'Departure Date' column is zero."
   ]
  },
  {
   "cell_type": "code",
   "execution_count": 17,
   "id": "d4a1acf7-954b-4aa7-b2b1-b210acbb7e12",
   "metadata": {
    "tags": []
   },
   "outputs": [
    {
     "data": {
      "text/html": [
       "<div>\n",
       "<style scoped>\n",
       "    .dataframe tbody tr th:only-of-type {\n",
       "        vertical-align: middle;\n",
       "    }\n",
       "\n",
       "    .dataframe tbody tr th {\n",
       "        vertical-align: top;\n",
       "    }\n",
       "\n",
       "    .dataframe thead th {\n",
       "        text-align: right;\n",
       "    }\n",
       "</style>\n",
       "<table border=\"1\" class=\"dataframe\">\n",
       "  <thead>\n",
       "    <tr style=\"text-align: right;\">\n",
       "      <th></th>\n",
       "      <th>Passenger ID</th>\n",
       "      <th>Gender</th>\n",
       "      <th>Age</th>\n",
       "      <th>Nationality</th>\n",
       "      <th>Airport Name</th>\n",
       "      <th>Airport Country</th>\n",
       "      <th>Airport Continent</th>\n",
       "      <th>Departure Date</th>\n",
       "      <th>Arrival Airport</th>\n",
       "      <th>Pilot Name</th>\n",
       "      <th>Flight Status</th>\n",
       "    </tr>\n",
       "  </thead>\n",
       "  <tbody>\n",
       "    <tr>\n",
       "      <th>0</th>\n",
       "      <td>ABVWIg</td>\n",
       "      <td>Female</td>\n",
       "      <td>62</td>\n",
       "      <td>Japan</td>\n",
       "      <td>Coldfoot Airport</td>\n",
       "      <td>United States</td>\n",
       "      <td>North America</td>\n",
       "      <td>2022-06-28</td>\n",
       "      <td>CXF</td>\n",
       "      <td>Fransisco Hazeldine</td>\n",
       "      <td>On Time</td>\n",
       "    </tr>\n",
       "    <tr>\n",
       "      <th>1</th>\n",
       "      <td>jkXXAX</td>\n",
       "      <td>Male</td>\n",
       "      <td>62</td>\n",
       "      <td>Nicaragua</td>\n",
       "      <td>Kugluktuk Airport</td>\n",
       "      <td>Canada</td>\n",
       "      <td>North America</td>\n",
       "      <td>2022-12-26</td>\n",
       "      <td>YCO</td>\n",
       "      <td>Marla Parsonage</td>\n",
       "      <td>On Time</td>\n",
       "    </tr>\n",
       "    <tr>\n",
       "      <th>2</th>\n",
       "      <td>CdUz2g</td>\n",
       "      <td>Male</td>\n",
       "      <td>67</td>\n",
       "      <td>Russia</td>\n",
       "      <td>Grenoble-Isère Airport</td>\n",
       "      <td>France</td>\n",
       "      <td>Europe</td>\n",
       "      <td>2022-01-18</td>\n",
       "      <td>GNB</td>\n",
       "      <td>Rhonda Amber</td>\n",
       "      <td>On Time</td>\n",
       "    </tr>\n",
       "    <tr>\n",
       "      <th>3</th>\n",
       "      <td>BRS38V</td>\n",
       "      <td>Female</td>\n",
       "      <td>71</td>\n",
       "      <td>China</td>\n",
       "      <td>Ottawa / Gatineau Airport</td>\n",
       "      <td>Canada</td>\n",
       "      <td>North America</td>\n",
       "      <td>2022-09-16</td>\n",
       "      <td>YND</td>\n",
       "      <td>Kacie Commucci</td>\n",
       "      <td>Delayed</td>\n",
       "    </tr>\n",
       "    <tr>\n",
       "      <th>4</th>\n",
       "      <td>9kvTLo</td>\n",
       "      <td>Male</td>\n",
       "      <td>21</td>\n",
       "      <td>China</td>\n",
       "      <td>Gillespie Field</td>\n",
       "      <td>United States</td>\n",
       "      <td>North America</td>\n",
       "      <td>2022-02-25</td>\n",
       "      <td>SEE</td>\n",
       "      <td>Ebonee Tree</td>\n",
       "      <td>On Time</td>\n",
       "    </tr>\n",
       "  </tbody>\n",
       "</table>\n",
       "</div>"
      ],
      "text/plain": [
       "  Passenger ID  Gender  Age Nationality               Airport Name  \\\n",
       "0       ABVWIg  Female   62       Japan           Coldfoot Airport   \n",
       "1       jkXXAX    Male   62   Nicaragua          Kugluktuk Airport   \n",
       "2       CdUz2g    Male   67      Russia     Grenoble-Isère Airport   \n",
       "3       BRS38V  Female   71       China  Ottawa / Gatineau Airport   \n",
       "4       9kvTLo    Male   21       China            Gillespie Field   \n",
       "\n",
       "  Airport Country Airport Continent Departure Date Arrival Airport  \\\n",
       "0   United States     North America     2022-06-28             CXF   \n",
       "1          Canada     North America     2022-12-26             YCO   \n",
       "2          France            Europe     2022-01-18             GNB   \n",
       "3          Canada     North America     2022-09-16             YND   \n",
       "4   United States     North America     2022-02-25             SEE   \n",
       "\n",
       "            Pilot Name Flight Status  \n",
       "0  Fransisco Hazeldine       On Time  \n",
       "1      Marla Parsonage       On Time  \n",
       "2         Rhonda Amber       On Time  \n",
       "3       Kacie Commucci       Delayed  \n",
       "4          Ebonee Tree       On Time  "
      ]
     },
     "execution_count": 17,
     "metadata": {},
     "output_type": "execute_result"
    }
   ],
   "source": [
    "# Let's view the first few rows of the dataset to check the 'Departure Date' column.\n",
    "airline_df.head()"
   ]
  },
  {
   "cell_type": "code",
   "execution_count": 18,
   "id": "db901b36-3f6f-4ee6-bbd2-dcfb75161aef",
   "metadata": {
    "tags": []
   },
   "outputs": [
    {
     "data": {
      "text/html": [
       "<div>\n",
       "<style scoped>\n",
       "    .dataframe tbody tr th:only-of-type {\n",
       "        vertical-align: middle;\n",
       "    }\n",
       "\n",
       "    .dataframe tbody tr th {\n",
       "        vertical-align: top;\n",
       "    }\n",
       "\n",
       "    .dataframe thead th {\n",
       "        text-align: right;\n",
       "    }\n",
       "</style>\n",
       "<table border=\"1\" class=\"dataframe\">\n",
       "  <thead>\n",
       "    <tr style=\"text-align: right;\">\n",
       "      <th></th>\n",
       "      <th>Passenger ID</th>\n",
       "      <th>Gender</th>\n",
       "      <th>Age</th>\n",
       "      <th>Nationality</th>\n",
       "      <th>Airport Name</th>\n",
       "      <th>Airport Country</th>\n",
       "      <th>Airport Continent</th>\n",
       "      <th>Departure Date</th>\n",
       "      <th>Arrival Airport</th>\n",
       "      <th>Pilot Name</th>\n",
       "      <th>Flight Status</th>\n",
       "    </tr>\n",
       "  </thead>\n",
       "  <tbody>\n",
       "    <tr>\n",
       "      <th>98614</th>\n",
       "      <td>hnGQ62</td>\n",
       "      <td>Male</td>\n",
       "      <td>85</td>\n",
       "      <td>China</td>\n",
       "      <td>Hasvik Airport</td>\n",
       "      <td>Norway</td>\n",
       "      <td>Europe</td>\n",
       "      <td>2022-12-11</td>\n",
       "      <td>HAA</td>\n",
       "      <td>Pammie Kingscote</td>\n",
       "      <td>Cancelled</td>\n",
       "    </tr>\n",
       "    <tr>\n",
       "      <th>98615</th>\n",
       "      <td>2omEzh</td>\n",
       "      <td>Female</td>\n",
       "      <td>19</td>\n",
       "      <td>Russia</td>\n",
       "      <td>Ampampamena Airport</td>\n",
       "      <td>Madagascar</td>\n",
       "      <td>Africa</td>\n",
       "      <td>2022-10-30</td>\n",
       "      <td>IVA</td>\n",
       "      <td>Dorice Lochran</td>\n",
       "      <td>Cancelled</td>\n",
       "    </tr>\n",
       "    <tr>\n",
       "      <th>98616</th>\n",
       "      <td>VUPiVG</td>\n",
       "      <td>Male</td>\n",
       "      <td>65</td>\n",
       "      <td>Indonesia</td>\n",
       "      <td>Albacete-Los Llanos Airport</td>\n",
       "      <td>Spain</td>\n",
       "      <td>Europe</td>\n",
       "      <td>2022-09-10</td>\n",
       "      <td>ABC</td>\n",
       "      <td>Gearalt Main</td>\n",
       "      <td>On Time</td>\n",
       "    </tr>\n",
       "    <tr>\n",
       "      <th>98617</th>\n",
       "      <td>E47NtS</td>\n",
       "      <td>Female</td>\n",
       "      <td>34</td>\n",
       "      <td>China</td>\n",
       "      <td>Gagnoa Airport</td>\n",
       "      <td>Côte d'Ivoire</td>\n",
       "      <td>Africa</td>\n",
       "      <td>2022-10-26</td>\n",
       "      <td>GGN</td>\n",
       "      <td>Judon Chasle</td>\n",
       "      <td>Cancelled</td>\n",
       "    </tr>\n",
       "    <tr>\n",
       "      <th>98618</th>\n",
       "      <td>8JYEcz</td>\n",
       "      <td>Female</td>\n",
       "      <td>10</td>\n",
       "      <td>Poland</td>\n",
       "      <td>Yoshkar-Ola Airport</td>\n",
       "      <td>Russian Federation</td>\n",
       "      <td>Europe</td>\n",
       "      <td>2022-04-16</td>\n",
       "      <td>JOK</td>\n",
       "      <td>Auguste Tindley</td>\n",
       "      <td>Delayed</td>\n",
       "    </tr>\n",
       "  </tbody>\n",
       "</table>\n",
       "</div>"
      ],
      "text/plain": [
       "      Passenger ID  Gender  Age Nationality                 Airport Name  \\\n",
       "98614       hnGQ62    Male   85       China               Hasvik Airport   \n",
       "98615       2omEzh  Female   19      Russia          Ampampamena Airport   \n",
       "98616       VUPiVG    Male   65   Indonesia  Albacete-Los Llanos Airport   \n",
       "98617       E47NtS  Female   34       China               Gagnoa Airport   \n",
       "98618       8JYEcz  Female   10      Poland          Yoshkar-Ola Airport   \n",
       "\n",
       "          Airport Country Airport Continent Departure Date Arrival Airport  \\\n",
       "98614              Norway            Europe     2022-12-11             HAA   \n",
       "98615          Madagascar            Africa     2022-10-30             IVA   \n",
       "98616               Spain            Europe     2022-09-10             ABC   \n",
       "98617       Côte d'Ivoire            Africa     2022-10-26             GGN   \n",
       "98618  Russian Federation            Europe     2022-04-16             JOK   \n",
       "\n",
       "             Pilot Name Flight Status  \n",
       "98614  Pammie Kingscote     Cancelled  \n",
       "98615    Dorice Lochran     Cancelled  \n",
       "98616      Gearalt Main       On Time  \n",
       "98617      Judon Chasle     Cancelled  \n",
       "98618   Auguste Tindley       Delayed  "
      ]
     },
     "execution_count": 18,
     "metadata": {},
     "output_type": "execute_result"
    }
   ],
   "source": [
    "# Let's view the last few rows of the dataset to check the 'Departure Date' column.\n",
    "airline_df.tail()"
   ]
  },
  {
   "cell_type": "code",
   "execution_count": 19,
   "id": "ba5854e5-d777-4689-a787-3cea8f823b22",
   "metadata": {
    "tags": []
   },
   "outputs": [
    {
     "data": {
      "text/plain": [
       "Passenger ID         False\n",
       "Gender               False\n",
       "Age                  False\n",
       "Nationality          False\n",
       "Airport Name         False\n",
       "Airport Country      False\n",
       "Airport Continent    False\n",
       "Departure Date       False\n",
       "Arrival Airport      False\n",
       "Pilot Name           False\n",
       "Flight Status        False\n",
       "dtype: bool"
      ]
     },
     "execution_count": 19,
     "metadata": {},
     "output_type": "execute_result"
    }
   ],
   "source": [
    "# Cheking if any value is null in dataset.\n",
    "airline_df.isna().any(axis=0)\n",
    "\n",
    "# There are no Null values in the dataset"
   ]
  },
  {
   "cell_type": "code",
   "execution_count": 20,
   "id": "5109e838-f8a0-477f-abcc-5cfaedf96b3a",
   "metadata": {
    "tags": []
   },
   "outputs": [
    {
     "name": "stdout",
     "output_type": "stream",
     "text": [
      "Empty DataFrame\n",
      "Columns: [Passenger ID, Gender, Age, Nationality, Airport Name, Airport Country, Airport Continent, Departure Date, Arrival Airport, Pilot Name, Flight Status]\n",
      "Index: []\n"
     ]
    }
   ],
   "source": [
    "# Checking for any duplicates in the dataset\n",
    "duplicates = airline_df[airline_df.duplicated()]\n",
    "print(duplicates)\n",
    "\n",
    "# The output shows that there are no duplicates in the dataset"
   ]
  },
  {
   "cell_type": "code",
   "execution_count": 21,
   "id": "01cd7f82-fa72-4a88-9f74-99c1b093f63c",
   "metadata": {
    "tags": []
   },
   "outputs": [
    {
     "data": {
      "text/plain": [
       "Passenger ID         98619\n",
       "Gender                   2\n",
       "Age                     90\n",
       "Nationality            240\n",
       "Airport Name          9062\n",
       "Airport Country        235\n",
       "Airport Continent        6\n",
       "Departure Date         364\n",
       "Arrival Airport       9024\n",
       "Pilot Name           98605\n",
       "Flight Status            3\n",
       "dtype: int64"
      ]
     },
     "execution_count": 21,
     "metadata": {},
     "output_type": "execute_result"
    }
   ],
   "source": [
    "# Checking the number of unique values in each column\n",
    "airline_df.nunique()"
   ]
  },
  {
   "cell_type": "code",
   "execution_count": 22,
   "id": "1095312f-259c-4ada-86a8-5694e15c313c",
   "metadata": {
    "tags": []
   },
   "outputs": [
    {
     "data": {
      "text/html": [
       "<div>\n",
       "<style scoped>\n",
       "    .dataframe tbody tr th:only-of-type {\n",
       "        vertical-align: middle;\n",
       "    }\n",
       "\n",
       "    .dataframe tbody tr th {\n",
       "        vertical-align: top;\n",
       "    }\n",
       "\n",
       "    .dataframe thead th {\n",
       "        text-align: right;\n",
       "    }\n",
       "</style>\n",
       "<table border=\"1\" class=\"dataframe\">\n",
       "  <thead>\n",
       "    <tr style=\"text-align: right;\">\n",
       "      <th></th>\n",
       "      <th>Age</th>\n",
       "      <th>Departure Date</th>\n",
       "    </tr>\n",
       "  </thead>\n",
       "  <tbody>\n",
       "    <tr>\n",
       "      <th>count</th>\n",
       "      <td>98619.000000</td>\n",
       "      <td>98619</td>\n",
       "    </tr>\n",
       "    <tr>\n",
       "      <th>mean</th>\n",
       "      <td>45.504021</td>\n",
       "      <td>2022-07-01 01:24:51.886959104</td>\n",
       "    </tr>\n",
       "    <tr>\n",
       "      <th>min</th>\n",
       "      <td>1.000000</td>\n",
       "      <td>2022-01-01 00:00:00</td>\n",
       "    </tr>\n",
       "    <tr>\n",
       "      <th>25%</th>\n",
       "      <td>23.000000</td>\n",
       "      <td>2022-04-01 00:00:00</td>\n",
       "    </tr>\n",
       "    <tr>\n",
       "      <th>50%</th>\n",
       "      <td>46.000000</td>\n",
       "      <td>2022-07-01 00:00:00</td>\n",
       "    </tr>\n",
       "    <tr>\n",
       "      <th>75%</th>\n",
       "      <td>68.000000</td>\n",
       "      <td>2022-09-30 00:00:00</td>\n",
       "    </tr>\n",
       "    <tr>\n",
       "      <th>max</th>\n",
       "      <td>90.000000</td>\n",
       "      <td>2022-12-30 00:00:00</td>\n",
       "    </tr>\n",
       "    <tr>\n",
       "      <th>std</th>\n",
       "      <td>25.929849</td>\n",
       "      <td>NaN</td>\n",
       "    </tr>\n",
       "  </tbody>\n",
       "</table>\n",
       "</div>"
      ],
      "text/plain": [
       "                Age                 Departure Date\n",
       "count  98619.000000                          98619\n",
       "mean      45.504021  2022-07-01 01:24:51.886959104\n",
       "min        1.000000            2022-01-01 00:00:00\n",
       "25%       23.000000            2022-04-01 00:00:00\n",
       "50%       46.000000            2022-07-01 00:00:00\n",
       "75%       68.000000            2022-09-30 00:00:00\n",
       "max       90.000000            2022-12-30 00:00:00\n",
       "std       25.929849                            NaN"
      ]
     },
     "execution_count": 22,
     "metadata": {},
     "output_type": "execute_result"
    }
   ],
   "source": [
    "# Summary statistics of the numeric columns in the dataset.\n",
    "airline_df.describe()"
   ]
  },
  {
   "cell_type": "markdown",
   "id": "f082d341-b609-4c96-9f01-523be83e14ea",
   "metadata": {},
   "source": [
    "### How many entries correspond to the same flight based on identical departure date, airport name, and pilot name?"
   ]
  },
  {
   "cell_type": "code",
   "execution_count": 23,
   "id": "0e6f8257-1292-4c08-aa95-2b1ea542b866",
   "metadata": {
    "tags": []
   },
   "outputs": [
    {
     "name": "stdout",
     "output_type": "stream",
     "text": [
      "Empty DataFrame\n",
      "Columns: [Passenger ID, Gender, Age, Nationality, Airport Name, Airport Country, Airport Continent, Departure Date, Arrival Airport, Pilot Name, Flight Status]\n",
      "Index: []\n"
     ]
    }
   ],
   "source": [
    "# Find duplicate passenger entries that share the same flight based on date, location, and pilot.\n",
    "# We check for duplicates with the same 'Departure Date,' 'Airport Name,' and 'Pilot Name.'\n",
    "duplicate_rows = airline_df[airline_df.duplicated(subset=['Departure Date', 'Airport Name', 'Pilot Name'], keep=False)]\n",
    "print(duplicate_rows)"
   ]
  },
  {
   "cell_type": "code",
   "execution_count": 24,
   "id": "e90b09ef-ffdc-4597-aa1a-2882cd8e503b",
   "metadata": {
    "tags": []
   },
   "outputs": [],
   "source": [
    "# The output indicates that there are no duplicate entries for the same flight.\n",
    "# This means that the number of passenger entries is equivalent to number of flights in the dataset.\n",
    "# Hence, the number of entries will be considered as both: Number of flights and Number of Passengers"
   ]
  },
  {
   "cell_type": "markdown",
   "id": "3cf7c9be-ceda-49cd-b729-4347a6f1d122",
   "metadata": {},
   "source": [
    "### What are the flight counts by airport continent, flight status, and gender, and how many male and female passengers are in each category?"
   ]
  },
  {
   "cell_type": "code",
   "execution_count": 38,
   "id": "bca79a65-78a5-422c-bba7-74adc7729f6c",
   "metadata": {
    "tags": []
   },
   "outputs": [
    {
     "data": {
      "text/html": [
       "<div>\n",
       "<style scoped>\n",
       "    .dataframe tbody tr th:only-of-type {\n",
       "        vertical-align: middle;\n",
       "    }\n",
       "\n",
       "    .dataframe tbody tr th {\n",
       "        vertical-align: top;\n",
       "    }\n",
       "\n",
       "    .dataframe thead th {\n",
       "        text-align: right;\n",
       "    }\n",
       "</style>\n",
       "<table border=\"1\" class=\"dataframe\">\n",
       "  <thead>\n",
       "    <tr style=\"text-align: right;\">\n",
       "      <th>Flight Status</th>\n",
       "      <th>Cancelled</th>\n",
       "      <th>Delayed</th>\n",
       "      <th>On Time</th>\n",
       "    </tr>\n",
       "    <tr>\n",
       "      <th>Airport Continent</th>\n",
       "      <th></th>\n",
       "      <th></th>\n",
       "      <th></th>\n",
       "    </tr>\n",
       "  </thead>\n",
       "  <tbody>\n",
       "    <tr>\n",
       "      <th>Africa</th>\n",
       "      <td>3657</td>\n",
       "      <td>3654</td>\n",
       "      <td>3719</td>\n",
       "    </tr>\n",
       "    <tr>\n",
       "      <th>Asia</th>\n",
       "      <td>6235</td>\n",
       "      <td>6160</td>\n",
       "      <td>6242</td>\n",
       "    </tr>\n",
       "    <tr>\n",
       "      <th>Europe</th>\n",
       "      <td>4095</td>\n",
       "      <td>4178</td>\n",
       "      <td>4062</td>\n",
       "    </tr>\n",
       "    <tr>\n",
       "      <th>North America</th>\n",
       "      <td>10693</td>\n",
       "      <td>10696</td>\n",
       "      <td>10644</td>\n",
       "    </tr>\n",
       "    <tr>\n",
       "      <th>Oceania</th>\n",
       "      <td>4619</td>\n",
       "      <td>4634</td>\n",
       "      <td>4613</td>\n",
       "    </tr>\n",
       "    <tr>\n",
       "      <th>South America</th>\n",
       "      <td>3643</td>\n",
       "      <td>3509</td>\n",
       "      <td>3566</td>\n",
       "    </tr>\n",
       "  </tbody>\n",
       "</table>\n",
       "</div>"
      ],
      "text/plain": [
       "Flight Status      Cancelled  Delayed  On Time\n",
       "Airport Continent                             \n",
       "Africa                  3657     3654     3719\n",
       "Asia                    6235     6160     6242\n",
       "Europe                  4095     4178     4062\n",
       "North America          10693    10696    10644\n",
       "Oceania                 4619     4634     4613\n",
       "South America           3643     3509     3566"
      ]
     },
     "execution_count": 38,
     "metadata": {},
     "output_type": "execute_result"
    }
   ],
   "source": [
    "# Displays the number of flights for each airport continent and flight status\n",
    "\n",
    "# Group the data by \"Airport Continent\" and \"Flight Status\" and calculate the count of flights for each combination\n",
    "# The count() function is used to count the number of non-null values in 'Passenger ID'\n",
    "# If any combinations have missing data, we will fill those with 0 using 'unstack(fill_value=0)'\n",
    "# This ensures that all possible combinations have counts, even if they are 0.\n",
    "flight_status_per_continent = airline_df.groupby(['Airport Continent', 'Flight Status'])['Passenger ID'].count().unstack(fill_value=0)\n",
    "\n",
    "# Display the result \n",
    "flight_status_per_continent"
   ]
  },
  {
   "cell_type": "code",
   "execution_count": 26,
   "id": "240cf12a-2148-48cf-bcfc-c806c479bd5c",
   "metadata": {
    "tags": []
   },
   "outputs": [
    {
     "data": {
      "image/png": "[encoded data removed]",
      "text/plain": [
       "<Figure size 1200x600 with 1 Axes>"
      ]
     },
     "metadata": {},
     "output_type": "display_data"
    }
   ],
   "source": [
    "# Plot a bar graph\n",
    "flight_status_per_continent.plot(kind='bar', figsize=(12, 6))\n",
    "plt.title('Flight Status by Airport Continent')\n",
    "plt.xlabel('Airport Continent')\n",
    "plt.ylabel('Flight Count')\n",
    "\n",
    "plt.show()"
   ]
  },
  {
   "cell_type": "code",
   "execution_count": 39,
   "id": "3e1a84b7-d558-47bc-a06e-c45ad640adc6",
   "metadata": {
    "tags": []
   },
   "outputs": [
    {
     "data": {
      "text/html": [
       "<div>\n",
       "<style scoped>\n",
       "    .dataframe tbody tr th:only-of-type {\n",
       "        vertical-align: middle;\n",
       "    }\n",
       "\n",
       "    .dataframe tbody tr th {\n",
       "        vertical-align: top;\n",
       "    }\n",
       "\n",
       "    .dataframe thead th {\n",
       "        text-align: right;\n",
       "    }\n",
       "</style>\n",
       "<table border=\"1\" class=\"dataframe\">\n",
       "  <thead>\n",
       "    <tr style=\"text-align: right;\">\n",
       "      <th></th>\n",
       "      <th></th>\n",
       "      <th>Female Passengers</th>\n",
       "      <th>Male Passengers</th>\n",
       "    </tr>\n",
       "    <tr>\n",
       "      <th>Airport Continent</th>\n",
       "      <th>Flight Status</th>\n",
       "      <th></th>\n",
       "      <th></th>\n",
       "    </tr>\n",
       "  </thead>\n",
       "  <tbody>\n",
       "    <tr>\n",
       "      <th rowspan=\"3\" valign=\"top\">Africa</th>\n",
       "      <th>Cancelled</th>\n",
       "      <td>1852</td>\n",
       "      <td>1805</td>\n",
       "    </tr>\n",
       "    <tr>\n",
       "      <th>Delayed</th>\n",
       "      <td>1851</td>\n",
       "      <td>1803</td>\n",
       "    </tr>\n",
       "    <tr>\n",
       "      <th>On Time</th>\n",
       "      <td>1847</td>\n",
       "      <td>1872</td>\n",
       "    </tr>\n",
       "    <tr>\n",
       "      <th rowspan=\"3\" valign=\"top\">Asia</th>\n",
       "      <th>Cancelled</th>\n",
       "      <td>3096</td>\n",
       "      <td>3139</td>\n",
       "    </tr>\n",
       "    <tr>\n",
       "      <th>Delayed</th>\n",
       "      <td>2999</td>\n",
       "      <td>3161</td>\n",
       "    </tr>\n",
       "    <tr>\n",
       "      <th>On Time</th>\n",
       "      <td>3073</td>\n",
       "      <td>3169</td>\n",
       "    </tr>\n",
       "    <tr>\n",
       "      <th rowspan=\"3\" valign=\"top\">Europe</th>\n",
       "      <th>Cancelled</th>\n",
       "      <td>2076</td>\n",
       "      <td>2019</td>\n",
       "    </tr>\n",
       "    <tr>\n",
       "      <th>Delayed</th>\n",
       "      <td>2071</td>\n",
       "      <td>2107</td>\n",
       "    </tr>\n",
       "    <tr>\n",
       "      <th>On Time</th>\n",
       "      <td>2015</td>\n",
       "      <td>2047</td>\n",
       "    </tr>\n",
       "    <tr>\n",
       "      <th rowspan=\"3\" valign=\"top\">North America</th>\n",
       "      <th>Cancelled</th>\n",
       "      <td>5243</td>\n",
       "      <td>5450</td>\n",
       "    </tr>\n",
       "    <tr>\n",
       "      <th>Delayed</th>\n",
       "      <td>5285</td>\n",
       "      <td>5411</td>\n",
       "    </tr>\n",
       "    <tr>\n",
       "      <th>On Time</th>\n",
       "      <td>5269</td>\n",
       "      <td>5375</td>\n",
       "    </tr>\n",
       "    <tr>\n",
       "      <th rowspan=\"3\" valign=\"top\">Oceania</th>\n",
       "      <th>Cancelled</th>\n",
       "      <td>2317</td>\n",
       "      <td>2302</td>\n",
       "    </tr>\n",
       "    <tr>\n",
       "      <th>Delayed</th>\n",
       "      <td>2366</td>\n",
       "      <td>2268</td>\n",
       "    </tr>\n",
       "    <tr>\n",
       "      <th>On Time</th>\n",
       "      <td>2303</td>\n",
       "      <td>2310</td>\n",
       "    </tr>\n",
       "    <tr>\n",
       "      <th rowspan=\"3\" valign=\"top\">South America</th>\n",
       "      <th>Cancelled</th>\n",
       "      <td>1868</td>\n",
       "      <td>1775</td>\n",
       "    </tr>\n",
       "    <tr>\n",
       "      <th>Delayed</th>\n",
       "      <td>1719</td>\n",
       "      <td>1790</td>\n",
       "    </tr>\n",
       "    <tr>\n",
       "      <th>On Time</th>\n",
       "      <td>1771</td>\n",
       "      <td>1795</td>\n",
       "    </tr>\n",
       "  </tbody>\n",
       "</table>\n",
       "</div>"
      ],
      "text/plain": [
       "                                 Female Passengers  Male Passengers\n",
       "Airport Continent Flight Status                                    \n",
       "Africa            Cancelled                   1852             1805\n",
       "                  Delayed                     1851             1803\n",
       "                  On Time                     1847             1872\n",
       "Asia              Cancelled                   3096             3139\n",
       "                  Delayed                     2999             3161\n",
       "                  On Time                     3073             3169\n",
       "Europe            Cancelled                   2076             2019\n",
       "                  Delayed                     2071             2107\n",
       "                  On Time                     2015             2047\n",
       "North America     Cancelled                   5243             5450\n",
       "                  Delayed                     5285             5411\n",
       "                  On Time                     5269             5375\n",
       "Oceania           Cancelled                   2317             2302\n",
       "                  Delayed                     2366             2268\n",
       "                  On Time                     2303             2310\n",
       "South America     Cancelled                   1868             1775\n",
       "                  Delayed                     1719             1790\n",
       "                  On Time                     1771             1795"
      ]
     },
     "execution_count": 39,
     "metadata": {},
     "output_type": "execute_result"
    }
   ],
   "source": [
    "# Flight counts by airport continent, flight status, and gender, and how many male and female passengers are in each category\n",
    "\n",
    "# Group the data by \"Airport Continent,\" \"Flight Status,\" and \"Gender\" and calculate the count of flights for each combination\n",
    "flight_status_gender_per_continent = airline_df.groupby(['Airport Continent', 'Flight Status', 'Gender'])['Passenger ID'].count().unstack(fill_value=0)\n",
    "\n",
    "# Rename the columns\n",
    "flight_status_gender_per_continent.columns.name = None\n",
    "flight_status_gender_per_continent.rename(columns={'Female': 'Female Passengers', 'Male': 'Male Passengers'}, inplace=True)\n",
    "\n",
    "# Display the result as a Pandas DataFrame\n",
    "flight_status_gender_per_continent\n"
   ]
  },
  {
   "cell_type": "code",
   "execution_count": 40,
   "id": "a8fe359f-43c7-402a-8467-d42b07144bcb",
   "metadata": {
    "tags": []
   },
   "outputs": [
    {
     "data": {
      "image/png": "[encoded data removed]",
      "text/plain": [
       "<Figure size 1200x600 with 1 Axes>"
      ]
     },
     "metadata": {},
     "output_type": "display_data"
    }
   ],
   "source": [
    "# Plot a bar graph\n",
    "flight_status_gender_per_continent.plot(kind='bar', figsize=(12, 6))\n",
    "plt.title('Flight Status by Airport Continent and Gender')\n",
    "plt.xlabel('Airport Continent')\n",
    "plt.ylabel('Number of Passengers')\n",
    "\n",
    "plt.show()"
   ]
  },
  {
   "cell_type": "code",
   "execution_count": 41,
   "id": "536b8e3c-b2eb-4c77-993f-940e3ac1e3c7",
   "metadata": {
    "tags": []
   },
   "outputs": [],
   "source": [
    "# Exporting the result to CSV\n",
    "flight_status_gender_per_continent.to_csv('output//flight_status_gender_per_continent.csv')"
   ]
  },
  {
   "cell_type": "markdown",
   "id": "8575a7ba-2a61-44e1-bae6-166ed698e27e",
   "metadata": {},
   "source": [
    "### What is the distribution of passengers in various age groups?"
   ]
  },
  {
   "cell_type": "code",
   "execution_count": 42,
   "id": "f5c3144f-d8fd-4ced-9f45-597e4e50ae3b",
   "metadata": {
    "tags": []
   },
   "outputs": [
    {
     "data": {
      "text/html": [
       "<div>\n",
       "<style scoped>\n",
       "    .dataframe tbody tr th:only-of-type {\n",
       "        vertical-align: middle;\n",
       "    }\n",
       "\n",
       "    .dataframe tbody tr th {\n",
       "        vertical-align: top;\n",
       "    }\n",
       "\n",
       "    .dataframe thead th {\n",
       "        text-align: right;\n",
       "    }\n",
       "</style>\n",
       "<table border=\"1\" class=\"dataframe\">\n",
       "  <thead>\n",
       "    <tr style=\"text-align: right;\">\n",
       "      <th></th>\n",
       "      <th>Female Passengers</th>\n",
       "      <th>Male Passengers</th>\n",
       "      <th>Total Count</th>\n",
       "      <th>Male %</th>\n",
       "      <th>Female %</th>\n",
       "    </tr>\n",
       "    <tr>\n",
       "      <th>Age Group</th>\n",
       "      <th></th>\n",
       "      <th></th>\n",
       "      <th></th>\n",
       "      <th></th>\n",
       "      <th></th>\n",
       "    </tr>\n",
       "  </thead>\n",
       "  <tbody>\n",
       "    <tr>\n",
       "      <th>0-17</th>\n",
       "      <td>9722</td>\n",
       "      <td>9924</td>\n",
       "      <td>19646</td>\n",
       "      <td>50.514100</td>\n",
       "      <td>49.485900</td>\n",
       "    </tr>\n",
       "    <tr>\n",
       "      <th>18-29</th>\n",
       "      <td>6636</td>\n",
       "      <td>6648</td>\n",
       "      <td>13284</td>\n",
       "      <td>50.045167</td>\n",
       "      <td>49.954833</td>\n",
       "    </tr>\n",
       "    <tr>\n",
       "      <th>30-39</th>\n",
       "      <td>5393</td>\n",
       "      <td>5379</td>\n",
       "      <td>10772</td>\n",
       "      <td>49.935017</td>\n",
       "      <td>50.064983</td>\n",
       "    </tr>\n",
       "    <tr>\n",
       "      <th>40-49</th>\n",
       "      <td>5435</td>\n",
       "      <td>5651</td>\n",
       "      <td>11086</td>\n",
       "      <td>50.974202</td>\n",
       "      <td>49.025798</td>\n",
       "    </tr>\n",
       "    <tr>\n",
       "      <th>50-59</th>\n",
       "      <td>5556</td>\n",
       "      <td>5503</td>\n",
       "      <td>11059</td>\n",
       "      <td>49.760376</td>\n",
       "      <td>50.239624</td>\n",
       "    </tr>\n",
       "    <tr>\n",
       "      <th>60+</th>\n",
       "      <td>16279</td>\n",
       "      <td>16493</td>\n",
       "      <td>32772</td>\n",
       "      <td>50.326498</td>\n",
       "      <td>49.673502</td>\n",
       "    </tr>\n",
       "  </tbody>\n",
       "</table>\n",
       "</div>"
      ],
      "text/plain": [
       "           Female Passengers  Male Passengers  Total Count     Male %  \\\n",
       "Age Group                                                               \n",
       "0-17                    9722             9924        19646  50.514100   \n",
       "18-29                   6636             6648        13284  50.045167   \n",
       "30-39                   5393             5379        10772  49.935017   \n",
       "40-49                   5435             5651        11086  50.974202   \n",
       "50-59                   5556             5503        11059  49.760376   \n",
       "60+                    16279            16493        32772  50.326498   \n",
       "\n",
       "            Female %  \n",
       "Age Group             \n",
       "0-17       49.485900  \n",
       "18-29      49.954833  \n",
       "30-39      50.064983  \n",
       "40-49      49.025798  \n",
       "50-59      50.239624  \n",
       "60+        49.673502  "
      ]
     },
     "execution_count": 42,
     "metadata": {},
     "output_type": "execute_result"
    }
   ],
   "source": [
    "# Define the bin edges and labels for age groups\n",
    "bin_edges = [0, 18, 30, 40, 50, 60, 100]\n",
    "bin_labels = ['0-17', '18-29', '30-39', '40-49', '50-59', '60+']\n",
    "\n",
    "# Create a new column \"Age Group\" by binning the \"Age\" column\n",
    "airline_df['Age Group'] = pd.cut(airline_df['Age'], bins=bin_edges, labels=bin_labels)\n",
    "\n",
    "# Calculate the count of passengers in each age group by gender\n",
    "age_group_counts = airline_df.groupby(['Age Group', 'Gender']).size().unstack(fill_value=0)\n",
    "\n",
    "# Replace column names\n",
    "age_group_counts.rename(columns={'Female': 'Female Passengers', 'Male': 'Male Passengers'}, inplace=True)\n",
    "\n",
    "# Calculate the total count for each age group\n",
    "age_group_counts['Total Count'] = age_group_counts.sum(axis=1)\n",
    "\n",
    "# Calculate the percentage of males and females in each age group\n",
    "age_group_counts['Male %'] = (age_group_counts['Male Passengers'] / age_group_counts['Total Count']) * 100\n",
    "age_group_counts['Female %'] = (age_group_counts['Female Passengers'] / age_group_counts['Total Count']) * 100\n",
    "\n",
    "# Reset the index to make \"Age Group\" a column\n",
    "age_group_counts.reset_index(inplace=True)\n",
    "\n",
    "# Remove the index column\n",
    "age_group_counts = age_group_counts.rename_axis(None, axis=1)\n",
    "\n",
    "# Setting the column 'Age Group' as Index\n",
    "age_group_counts.set_index('Age Group', inplace=True)\n",
    "\n",
    "# Display the result as a Pandas DataFrame\n",
    "age_group_counts\n"
   ]
  },
  {
   "cell_type": "code",
   "execution_count": 43,
   "id": "1e34de9b-af8d-4cb1-b1a1-1a57f057f2af",
   "metadata": {
    "tags": []
   },
   "outputs": [
    {
     "data": {
      "image/png": "[encoded data removed]",
      "text/plain": [
       "<Figure size 1000x600 with 1 Axes>"
      ]
     },
     "metadata": {},
     "output_type": "display_data"
    }
   ],
   "source": [
    "# Plot the data\n",
    "# Here it is a stacked bar graph\n",
    "age_group_counts.plot(y=['Male Passengers', 'Female Passengers'], kind='bar', stacked=True, figsize=(10, 6))\n",
    "plt.title('Passenger Count and Percentages by Age Group and Gender')\n",
    "plt.xlabel('Age Group')\n",
    "plt.ylabel('Count')\n",
    "plt.legend(title='Gender')\n",
    "\n",
    "# Show the plot\n",
    "plt.show()"
   ]
  },
  {
   "cell_type": "code",
   "execution_count": 44,
   "id": "52fdb025-4f5f-4a0a-8146-0dfb1b23817e",
   "metadata": {},
   "outputs": [],
   "source": [
    "# Exporting the result to CSV\n",
    "age_group_counts.to_csv('output//age_group_counts.csv')"
   ]
  },
  {
   "cell_type": "markdown",
   "id": "2552c5ed-f397-4d9b-9b1d-ecc856c0f738",
   "metadata": {},
   "source": [
    "### How does the distribution of flight statuses vary across different months?"
   ]
  },
  {
   "cell_type": "code",
   "execution_count": 45,
   "id": "48bed753-4c2f-43fd-9ac0-918cb451fd51",
   "metadata": {
    "tags": []
   },
   "outputs": [
    {
     "name": "stdout",
     "output_type": "stream",
     "text": [
      "Departure Date\n",
      "1     8416\n",
      "2     7653\n",
      "3     8431\n",
      "4     7959\n",
      "5     8496\n",
      "6     8128\n",
      "7     8451\n",
      "8     8544\n",
      "9     8149\n",
      "10    8415\n",
      "11    8053\n",
      "12    7924\n",
      "Name: count, dtype: int64\n"
     ]
    }
   ],
   "source": [
    "# Extract the month from the 'Departure Date' column and analyze flight activity by month\n",
    "month_counts = airline_df['Departure Date'].dt.month.value_counts().sort_index()\n",
    "\n",
    "print(month_counts)\n",
    "\n",
    "# The results are presented in the numerical format, where 1 corresponds to January and so forth."
   ]
  },
  {
   "cell_type": "code",
   "execution_count": 46,
   "id": "0b8c8782-f14a-4d98-8014-6c712c0871e4",
   "metadata": {
    "tags": []
   },
   "outputs": [
    {
     "data": {
      "image/png": "[encoded data removed]",
      "text/plain": [
       "<Figure size 1000x600 with 1 Axes>"
      ]
     },
     "metadata": {},
     "output_type": "display_data"
    }
   ],
   "source": [
    "# Create a bar plot for flights per month\n",
    "plt.figure(figsize=(10, 6))\n",
    "plt.bar(month_counts.index, month_counts.values)\n",
    "plt.xlabel('Month')\n",
    "plt.ylabel('Number of Flights')\n",
    "plt.title('Number of Flights per Month')\n",
    "plt.xticks(range(1, 13), labels=['Jan', 'Feb', 'Mar', 'Apr', 'May', 'Jun', 'Jul', 'Aug', 'Sep', 'Oct', 'Nov', 'Dec'])\n",
    "plt.show()\n"
   ]
  },
  {
   "cell_type": "code",
   "execution_count": 47,
   "id": "f6c29c65-6d4d-4884-bc76-9e308031f917",
   "metadata": {
    "tags": []
   },
   "outputs": [
    {
     "name": "stdout",
     "output_type": "stream",
     "text": [
      "Flight Status    Cancelled  Delayed  On Time\n",
      "Departure Month                             \n",
      "January               2747     2868     2801\n",
      "February              2565     2537     2551\n",
      "March                 2776     2794     2861\n",
      "April                 2645     2715     2599\n",
      "May                   2846     2853     2797\n",
      "June                  2756     2678     2694\n",
      "July                  2800     2778     2873\n",
      "August                2864     2805     2875\n",
      "September             2766     2723     2660\n",
      "October               2797     2775     2843\n",
      "November              2678     2700     2675\n",
      "December              2702     2605     2617\n"
     ]
    }
   ],
   "source": [
    "# Create a table with the month names and the status of the flight\n",
    "\n",
    "# Extract the month from the 'Departure Date'\n",
    "airline_df['Departure Month'] = airline_df['Departure Date'].dt.month\n",
    "\n",
    "# Create a mapping of month numbers to month names with custom order\n",
    "month_mapping = {\n",
    "    1: 'January',\n",
    "    2: 'February',\n",
    "    3: 'March',\n",
    "    4: 'April',\n",
    "    5: 'May',\n",
    "    6: 'June',\n",
    "    7: 'July',\n",
    "    8: 'August',\n",
    "    9: 'September',\n",
    "    10: 'October',\n",
    "    11: 'November',\n",
    "    12: 'December'\n",
    "}\n",
    "\n",
    "# Apply the mapping to the 'Departure Month' column\n",
    "airline_df['Departure Month'] = airline_df['Departure Month'].map(month_mapping)\n",
    "\n",
    "# Reorder the months chronologically\n",
    "month_order = [\n",
    "    'January', 'February', 'March', 'April', 'May', 'June',\n",
    "    'July', 'August', 'September', 'October', 'November', 'December'\n",
    "]\n",
    "airline_df['Departure Month'] = pd.Categorical(airline_df['Departure Month'], categories=month_order, ordered=True)\n",
    "\n",
    "# Group the data by \"Departure Month\" and \"Flight Status\" and calculate the count of flights for each combination\n",
    "flight_status_by_month = airline_df.groupby(['Departure Month', 'Flight Status'])['Passenger ID'].count().unstack(fill_value=0)\n",
    "\n",
    "# Display the result as a Pandas DataFrame\n",
    "print(flight_status_by_month)\n"
   ]
  },
  {
   "cell_type": "code",
   "execution_count": 48,
   "id": "e8e4efd1-875a-4fb1-8f49-bdfbab1a2ba7",
   "metadata": {
    "tags": []
   },
   "outputs": [
    {
     "data": {
      "image/png": "[encoded data removed]",
      "text/plain": [
       "<Figure size 1200x600 with 1 Axes>"
      ]
     },
     "metadata": {},
     "output_type": "display_data"
    }
   ],
   "source": [
    "# Plot a bar graph\n",
    "flight_status_by_month.plot(kind='bar', figsize=(12, 6))\n",
    "plt.title('Flight Status by Month')\n",
    "plt.xlabel('Months')\n",
    "plt.ylabel('Number of Flights')\n",
    "\n",
    "plt.show()"
   ]
  },
  {
   "cell_type": "code",
   "execution_count": 49,
   "id": "240eca29-22ce-4229-852b-97f3d42321c0",
   "metadata": {
    "tags": []
   },
   "outputs": [],
   "source": [
    "# Exporting the result to CSV\n",
    "flight_status_by_month.to_csv('output//flight_status_by_month.csv')"
   ]
  },
  {
   "cell_type": "code",
   "execution_count": null,
   "id": "8feb63f9-cbef-4423-8692-8005acb79bb5",
   "metadata": {},
   "outputs": [],
   "source": []
  }
 ],
 "metadata": {
  "kernelspec": {
   "display_name": "Python 3 (ipykernel)",
   "language": "python",
   "name": "python3"
  },
  "language_info": {
   "codemirror_mode": {
    "name": "ipython",
    "version": 3
   },
   "file_extension": ".py",
   "mimetype": "text/x-python",
   "name": "python",
   "nbconvert_exporter": "python",
   "pygments_lexer": "ipython3",
   "version": "3.11.3"
  }
 },
 "nbformat": 4,
 "nbformat_minor": 5
}
